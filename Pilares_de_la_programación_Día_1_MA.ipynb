{
  "nbformat": 4,
  "nbformat_minor": 0,
  "metadata": {
    "kernelspec": {
      "display_name": "Python 3",
      "language": "python",
      "name": "python3"
    },
    "language_info": {
      "codemirror_mode": {
        "name": "ipython",
        "version": 3
      },
      "file_extension": ".py",
      "mimetype": "text/x-python",
      "name": "python",
      "nbconvert_exporter": "python",
      "pygments_lexer": "ipython3",
      "version": "3.8.3"
    },
    "colab": {
      "name": "Pilares de la programación - Día 1 MA.ipynb",
      "provenance": [],
      "include_colab_link": true
    }
  },
  "cells": [
    {
      "cell_type": "markdown",
      "metadata": {
        "id": "view-in-github",
        "colab_type": "text"
      },
      "source": [
        "<a href=\"https://colab.research.google.com/github/Demis78/Agregador-de-indicadores/blob/master/Pilares_de_la_programaci%C3%B3n_D%C3%ADa_1_MA.ipynb\" target=\"_parent\"><img src=\"https://colab.research.google.com/assets/colab-badge.svg\" alt=\"Open In Colab\"/></a>"
      ]
    },
    {
      "cell_type": "markdown",
      "metadata": {
        "id": "xlgGVJPzd9y0"
      },
      "source": [
        "# Pilares de la programación\n",
        "\n",
        "## Variables y tipos\n",
        "\n",
        "**Las variables tienen tres caracteristicas, un nombre, un contenido y su tipo.**\n",
        "\n",
        "### Nombres de símbolos\n",
        "\n",
        " Los nombres de las variables en Python pueden contener los caracteres `a-z`, `A-Z`, `0-9` y algunos caracteres especiales como `_`. Los nombres de variables normales deben comenzar con una letra. \n",
        "\n",
        "Además, existen algunos palabras claves Python que no pueden ser usados como nombres de variables. Éstas son:\n",
        "\n",
        "    and, as, assert, break, class, continue, def, del, elif, else, except, \n",
        "    exec, finally, for, from, global, if, import, in, is, lambda, not, or,\n",
        "    pass, print, raise, return, try, while, with, yield\n",
        "\n",
        "Los nombres de variables tienen las siguientes restricciones:\n",
        "\n",
        "- No pueden contener espacios espacios.\n",
        "- No pueden comenzar con un número.\n",
        "- No pueden contener los siguientes caracteres % \\ / . , : ( ) \n",
        "- No pueden ser nombre de instrucciones o funciones reservadas por el lenguaje (Python)\n",
        "- Si el nombre de variable contiene mayúsculas al utilizarla la debes escribir tal cual.\n",
        "- Se recomienda que sean nombres descriptivos.\n",
        "    \n",
        "### Asignaciones\n",
        "\n",
        "El operador para asignar valores en Python es el signo igual (`=`). Python es un lenguage de _escritura dinámica_, de modo que no necesitamos especificar el tipo de una variable cuando la creamos.\n",
        "\n",
        "Al asignar un valor a una variable nueva se crea esa variable:"
      ]
    },
    {
      "cell_type": "code",
      "metadata": {
        "id": "44TLek9md9y8"
      },
      "source": [
        "# asignaciones de variables\n",
        "x = 1.0\n",
        "mi_variable = 12.2"
      ],
      "execution_count": null,
      "outputs": []
    },
    {
      "cell_type": "markdown",
      "metadata": {
        "id": "GFiFqQHud9y9"
      },
      "source": [
        "Aunque no se especifique explícitamente, cada variable sí tiene un tipo asociada a ella. El tipo es extraido del valor que le fue asignado."
      ]
    },
    {
      "cell_type": "code",
      "metadata": {
        "id": "cUGjcRckd9y-",
        "outputId": "df15221e-ad09-412e-8c4c-abb25874bc24"
      },
      "source": [
        "type(x)"
      ],
      "execution_count": null,
      "outputs": [
        {
          "output_type": "execute_result",
          "data": {
            "text/plain": [
              "float"
            ]
          },
          "metadata": {
            "tags": []
          },
          "execution_count": 2
        }
      ]
    },
    {
      "cell_type": "code",
      "metadata": {
        "id": "6G1vBSV2kIQK"
      },
      "source": [
        "## Almacenemos un valor ingresado por el usuario.\r\n",
        "edad=input('ingrese su edad: ')"
      ],
      "execution_count": null,
      "outputs": []
    },
    {
      "cell_type": "code",
      "metadata": {
        "id": "4vaIP69nkKuU"
      },
      "source": [
        "print(edad)"
      ],
      "execution_count": null,
      "outputs": []
    },
    {
      "cell_type": "markdown",
      "metadata": {
        "id": "Yc56_zwQd9y_"
      },
      "source": [
        "Si asignamos un nuevo valor a una variable, su tipo puede cambiar."
      ]
    },
    {
      "cell_type": "code",
      "metadata": {
        "id": "RiMgnkq1d9y_"
      },
      "source": [
        "x = 1"
      ],
      "execution_count": null,
      "outputs": []
    },
    {
      "cell_type": "code",
      "metadata": {
        "id": "cVfbv5uod9zA",
        "outputId": "ffc5d3ad-f393-4a7e-dba4-7e6201ab1ca5"
      },
      "source": [
        "type(x)"
      ],
      "execution_count": null,
      "outputs": [
        {
          "output_type": "execute_result",
          "data": {
            "text/plain": [
              "int"
            ]
          },
          "metadata": {
            "tags": []
          },
          "execution_count": 4
        }
      ]
    },
    {
      "cell_type": "markdown",
      "metadata": {
        "id": "mIUjTSGod9zA"
      },
      "source": [
        "Si tratamos de usar una variable que no ha sido definida obtenemo un mensaje de error (`NameError`):"
      ]
    },
    {
      "cell_type": "code",
      "metadata": {
        "id": "XEUdOtDvd9zA"
      },
      "source": [
        "#type(y)"
      ],
      "execution_count": null,
      "outputs": []
    },
    {
      "cell_type": "markdown",
      "metadata": {
        "id": "yMTGpREnd9zB"
      },
      "source": [
        "### Tipos Fundamentales"
      ]
    },
    {
      "cell_type": "code",
      "metadata": {
        "id": "dstwYfF1d9zB",
        "outputId": "89e76fbc-966c-451b-de31-5dea8ed1094d"
      },
      "source": [
        "# enteros\n",
        "x = 1\n",
        "type(x)"
      ],
      "execution_count": null,
      "outputs": [
        {
          "output_type": "execute_result",
          "data": {
            "text/plain": [
              "int"
            ]
          },
          "metadata": {
            "tags": []
          },
          "execution_count": 6
        }
      ]
    },
    {
      "cell_type": "code",
      "metadata": {
        "id": "9aaxPlTSd9zB",
        "outputId": "75bb4189-a0f0-41b2-ecd7-04b529c1f8ba"
      },
      "source": [
        "# flotantes\n",
        "x = 1.0\n",
        "type(x)"
      ],
      "execution_count": null,
      "outputs": [
        {
          "output_type": "execute_result",
          "data": {
            "text/plain": [
              "float"
            ]
          },
          "metadata": {
            "tags": []
          },
          "execution_count": 7
        }
      ]
    },
    {
      "cell_type": "code",
      "metadata": {
        "id": "KXE6iyUpd9zC",
        "outputId": "a355613d-7496-47e5-d344-938240bbd2b3"
      },
      "source": [
        "# booleanos\n",
        "b1 = True\n",
        "b2 = False\n",
        "\n",
        "type(b1)"
      ],
      "execution_count": null,
      "outputs": [
        {
          "output_type": "execute_result",
          "data": {
            "text/plain": [
              "bool"
            ]
          },
          "metadata": {
            "tags": []
          },
          "execution_count": 8
        }
      ]
    },
    {
      "cell_type": "code",
      "metadata": {
        "id": "fd5Htcigd9zC",
        "outputId": "b16ec6d2-a1bc-42a2-faae-b9d2203ae695"
      },
      "source": [
        "# Cadena\n",
        "cadena = \"Hola, soy Pipe\"\n",
        "\n",
        "type(cadena)"
      ],
      "execution_count": null,
      "outputs": [
        {
          "output_type": "execute_result",
          "data": {
            "text/plain": [
              "str"
            ]
          },
          "metadata": {
            "tags": []
          },
          "execution_count": 9
        }
      ]
    },
    {
      "cell_type": "markdown",
      "metadata": {
        "id": "oELQsVuVd9zC"
      },
      "source": [
        "### Elaboremos operaciones aritmeticas, calculando a la velocidad de nuestro cerebro\n",
        "### Operadores Aritméticos:\n",
        "\n",
        "|Signo|Operatoria|||Signo|Operatoria|\n",
        "|:--:|--:|||:--:|--:|\n",
        "|+|Adición|||/|División|\n",
        "|-|Sustracción|||//|División entera|\n",
        "|*|Multiplicación|||**|Potencia|\n",
        "|%|Resto de una división entera\n"
      ]
    },
    {
      "cell_type": "code",
      "metadata": {
        "id": "57kFNcq1d9zC",
        "outputId": "02241899-83f6-4e30-e618-e4878a4bc0e8"
      },
      "source": [
        "# Suma\n",
        "1 + 2"
      ],
      "execution_count": null,
      "outputs": [
        {
          "output_type": "execute_result",
          "data": {
            "text/plain": [
              "3"
            ]
          },
          "metadata": {
            "tags": []
          },
          "execution_count": 10
        }
      ]
    },
    {
      "cell_type": "code",
      "metadata": {
        "id": "ySCyrm6fd9zD",
        "outputId": "bb8caf10-05b4-48bf-e2b9-fa26cbf6b221"
      },
      "source": [
        "# Resta\n",
        "1 - 2"
      ],
      "execution_count": null,
      "outputs": [
        {
          "output_type": "execute_result",
          "data": {
            "text/plain": [
              "-1"
            ]
          },
          "metadata": {
            "tags": []
          },
          "execution_count": 11
        }
      ]
    },
    {
      "cell_type": "code",
      "metadata": {
        "id": "lgTOxgYwd9zD",
        "outputId": "58f1764a-ddcc-4f55-e0b1-81427b3008d7"
      },
      "source": [
        "# Multiplicación\n",
        "1 * 2"
      ],
      "execution_count": null,
      "outputs": [
        {
          "output_type": "execute_result",
          "data": {
            "text/plain": [
              "2"
            ]
          },
          "metadata": {
            "tags": []
          },
          "execution_count": 12
        }
      ]
    },
    {
      "cell_type": "code",
      "metadata": {
        "id": "4qopTbOsd9zD",
        "outputId": "4fdaa042-3700-4438-ef18-532357de2197"
      },
      "source": [
        "# División\n",
        "1 / 2"
      ],
      "execution_count": null,
      "outputs": [
        {
          "output_type": "execute_result",
          "data": {
            "text/plain": [
              "0.5"
            ]
          },
          "metadata": {
            "tags": []
          },
          "execution_count": 13
        }
      ]
    },
    {
      "cell_type": "code",
      "metadata": {
        "id": "PkMXBtVud9zE",
        "outputId": "8875d9d1-b668-4203-8035-9f51901d47fc"
      },
      "source": [
        "# División entera de dos númenos flotantes\n",
        "3.0 // 2.0 # Obtener la parte entera de la división"
      ],
      "execution_count": null,
      "outputs": [
        {
          "output_type": "execute_result",
          "data": {
            "text/plain": [
              "1.0"
            ]
          },
          "metadata": {
            "tags": []
          },
          "execution_count": 14
        }
      ]
    },
    {
      "cell_type": "code",
      "metadata": {
        "id": "dHAvP32od9zE",
        "outputId": "94217bd4-b315-46ca-c1e4-3b6ab32dae2e"
      },
      "source": [
        "# Atención! El operador de potencia en Python no es ^, sino **\n",
        "2**3 # dos elevado a tres"
      ],
      "execution_count": null,
      "outputs": [
        {
          "output_type": "execute_result",
          "data": {
            "text/plain": [
              "8"
            ]
          },
          "metadata": {
            "tags": []
          },
          "execution_count": 15
        }
      ]
    },
    {
      "cell_type": "markdown",
      "metadata": {
        "id": "MB3fr4f6d9zE"
      },
      "source": [
        "## Funciones\n",
        "\n",
        "En Python una función es definida usando la palabra clave `def`, seguida de un nombre para la función, una o varias variables entre paréntesis `()`, y el símbolo de dos puntos `:`. El siguiente código, con un nivel adicional de indentación, es el cuerpo de la función."
      ]
    },
    {
      "cell_type": "code",
      "metadata": {
        "id": "aM1AUw5Wd9zF"
      },
      "source": [
        "def funcion_0():   \n",
        "    return \"test\""
      ],
      "execution_count": null,
      "outputs": []
    },
    {
      "cell_type": "code",
      "metadata": {
        "id": "H_g1nAm3d9zF",
        "colab": {
          "base_uri": "https://localhost:8080/",
          "height": 35
        },
        "outputId": "fa74197c-3825-4702-eeda-56291219e3ba"
      },
      "source": [
        "funcion_0() #Se ejecuta la función escribiendo su nombre"
      ],
      "execution_count": null,
      "outputs": [
        {
          "output_type": "execute_result",
          "data": {
            "application/vnd.google.colaboratory.intrinsic+json": {
              "type": "string"
            },
            "text/plain": [
              "'test'"
            ]
          },
          "metadata": {
            "tags": []
          },
          "execution_count": 4
        }
      ]
    },
    {
      "cell_type": "markdown",
      "metadata": {
        "id": "UAnhaEWod9zF"
      },
      "source": [
        "En forma opcional, pero muy recomendada, podemos definir un \"docstring\", que es una descripción del propósito y comportamiento de la función. El docstring debería ser incluido directamente después de la definición de la función, antes del código en el cuerpo de la función."
      ]
    },
    {
      "cell_type": "code",
      "metadata": {
        "id": "AkqLjSvMd9zF"
      },
      "source": [
        "def funcion_1(s):\n",
        "    \"\"\"\n",
        "    Esta función imprime en pantalla la variable ingresada\n",
        "    \"\"\"\n",
        "    \n",
        "    # print(s)\n",
        "\n",
        "    return s"
      ],
      "execution_count": null,
      "outputs": []
    },
    {
      "cell_type": "code",
      "metadata": {
        "id": "QMW9FPNid9zF",
        "colab": {
          "base_uri": "https://localhost:8080/",
          "height": 35
        },
        "outputId": "cf7e45c3-5335-471e-d474-ce04efe5992e"
      },
      "source": [
        "funcion_1(\"Hola\")"
      ],
      "execution_count": null,
      "outputs": [
        {
          "output_type": "execute_result",
          "data": {
            "application/vnd.google.colaboratory.intrinsic+json": {
              "type": "string"
            },
            "text/plain": [
              "'Hola'"
            ]
          },
          "metadata": {
            "tags": []
          },
          "execution_count": 2
        }
      ]
    },
    {
      "cell_type": "code",
      "metadata": {
        "id": "JnIQZTQbd9zG",
        "outputId": "267124c6-8bae-44a9-ba9d-6f38dc760952"
      },
      "source": [
        "help(funcion_1)"
      ],
      "execution_count": null,
      "outputs": [
        {
          "output_type": "stream",
          "text": [
            "Help on function funcion_1 in module __main__:\n",
            "\n",
            "funcion_1(s)\n",
            "    Esta función imprime en pantalla la variable ingresada\n",
            "\n"
          ],
          "name": "stdout"
        }
      ]
    },
    {
      "cell_type": "markdown",
      "metadata": {
        "id": "89Mi-EbUd9zG"
      },
      "source": [
        "Funciones que retornan un valor usan la palabra clave `return`:"
      ]
    },
    {
      "cell_type": "code",
      "metadata": {
        "id": "bhIK0vhAd9zG"
      },
      "source": [
        "def cuadrado(x):\n",
        "    \"\"\"\n",
        "    Calcula el cuadrado de x.\n",
        "    \"\"\"\n",
        "    return x**2"
      ],
      "execution_count": null,
      "outputs": []
    },
    {
      "cell_type": "code",
      "metadata": {
        "id": "UW-TJL7vd9zG",
        "outputId": "1cdf7fef-5ce4-4a64-d50d-b0c444e88946"
      },
      "source": [
        "cuadrado(4)"
      ],
      "execution_count": null,
      "outputs": [
        {
          "output_type": "execute_result",
          "data": {
            "text/plain": [
              "16"
            ]
          },
          "metadata": {
            "tags": []
          },
          "execution_count": 22
        }
      ]
    },
    {
      "cell_type": "markdown",
      "metadata": {
        "id": "p6SzUW2od9zH"
      },
      "source": [
        "## Ejercicios guíados\n",
        "\n",
        "1.- Realizar el paso a paso para calcular la suma de dos números cualesquiera\n",
        "\n",
        "2.- Implementarlo en Python\n",
        "\n",
        "3.- ¿Cuál es el resultado de ejecutar estas operaciones en Python?:\n",
        "\n",
        "    * 5*2-3+7-6*2**2\n",
        "    * 3+4+5-7*5+50\n",
        "    \n",
        "   ¿Qué operaciones se realizan primero?\n",
        "   \n",
        "4.- Ejecute en Python lo siguiente:\n",
        "\n",
        "    * 5*'jamon'\n",
        "    * '5' + 'jamon'\n",
        "    * 5*jamon\n",
        "    * 5 + jamon\n",
        "   Comente el resultado e identifique el motivo del resultado, ¿cuál obtiene error como resultado? ¿Por qué?\n",
        "   "
      ]
    },
    {
      "cell_type": "markdown",
      "metadata": {
        "id": "z4D8HeqdgRFM"
      },
      "source": [
        "## Solución\r\n",
        "\r\n",
        "1.- \"Algoritmo Suma\"\r\n",
        "\r\n",
        " (i)   Leer valor1\r\n",
        " \r\n",
        " (ii)  Leer Valor2\r\n",
        " \r\n",
        " (iii) Mostrar valor1 + valor2\r\n",
        " \r\n",
        " (iv)  FinAlgoritmo\r\n",
        " \r\n",
        "2.- Implementación en Python"
      ]
    },
    {
      "cell_type": "code",
      "metadata": {
        "colab": {
          "base_uri": "https://localhost:8080/"
        },
        "id": "9BxQuh1Vd9zH",
        "outputId": "191f4acf-af97-4bcb-fb9b-22daf1bffa7e"
      },
      "source": [
        "def suma(primer_numero, segundo_numero):\n",
        "  sumar = primer_numero + segundo_numero\n",
        "  return sumar\n",
        "\n",
        "suma(1,3)"
      ],
      "execution_count": null,
      "outputs": [
        {
          "output_type": "execute_result",
          "data": {
            "text/plain": [
              "4"
            ]
          },
          "metadata": {
            "tags": []
          },
          "execution_count": 8
        }
      ]
    },
    {
      "cell_type": "code",
      "metadata": {
        "colab": {
          "base_uri": "https://localhost:8080/"
        },
        "id": "LZUTWKZQd9zH",
        "outputId": "6565fd53-3537-41e9-c8d6-1f6af7cbc739"
      },
      "source": [
        "suma(4,20)"
      ],
      "execution_count": null,
      "outputs": [
        {
          "output_type": "execute_result",
          "data": {
            "text/plain": [
              "24"
            ]
          },
          "metadata": {
            "tags": []
          },
          "execution_count": 2
        }
      ]
    },
    {
      "cell_type": "markdown",
      "metadata": {
        "id": "daysRmWxd9zI"
      },
      "source": [
        "3.- Operacione aritméticas\n",
        "\n"
      ]
    },
    {
      "cell_type": "code",
      "metadata": {
        "colab": {
          "base_uri": "https://localhost:8080/"
        },
        "id": "AwhhdmNnd9zI",
        "outputId": "4f29e5e5-e3e3-45cb-bc6c-5018728bcd27"
      },
      "source": [
        "5*2-3+7-6*2**2"
      ],
      "execution_count": null,
      "outputs": [
        {
          "output_type": "execute_result",
          "data": {
            "text/plain": [
              "-10"
            ]
          },
          "metadata": {
            "tags": []
          },
          "execution_count": 3
        }
      ]
    },
    {
      "cell_type": "code",
      "metadata": {
        "colab": {
          "base_uri": "https://localhost:8080/"
        },
        "id": "kW1eZrR0d9zI",
        "outputId": "9c6bf98e-10bf-4236-d25f-898eabb4f41c"
      },
      "source": [
        "3+4+5-7*5+50"
      ],
      "execution_count": null,
      "outputs": [
        {
          "output_type": "execute_result",
          "data": {
            "text/plain": [
              "27"
            ]
          },
          "metadata": {
            "tags": []
          },
          "execution_count": 4
        }
      ]
    },
    {
      "cell_type": "markdown",
      "metadata": {
        "id": "DetLeVWQd9zI"
      },
      "source": [
        "Primero resuelve potencia, luego multiplicación/división y al final suma/resta. Si necesitamos **priorizar** alguna operación **se debe colocar entre paréntesis.**\n",
        "\n",
        "4.- Operaciones con variables int (números enteros) y str (cadenas, texto)"
      ]
    },
    {
      "cell_type": "code",
      "metadata": {
        "colab": {
          "base_uri": "https://localhost:8080/",
          "height": 35
        },
        "id": "RyIoql0rd9zJ",
        "outputId": "b3af325b-e06f-4ce3-8cda-ca42b4199e5a"
      },
      "source": [
        "5*'jamon'"
      ],
      "execution_count": null,
      "outputs": [
        {
          "output_type": "execute_result",
          "data": {
            "application/vnd.google.colaboratory.intrinsic+json": {
              "type": "string"
            },
            "text/plain": [
              "'jamonjamonjamonjamonjamon'"
            ]
          },
          "metadata": {
            "tags": []
          },
          "execution_count": 5
        }
      ]
    },
    {
      "cell_type": "markdown",
      "metadata": {
        "id": "vjQLKDZhd9zJ"
      },
      "source": [
        "Se escribió 5 veces la palabra \"jamon\" sin espacios"
      ]
    },
    {
      "cell_type": "code",
      "metadata": {
        "colab": {
          "base_uri": "https://localhost:8080/",
          "height": 35
        },
        "id": "5uAvlIjFd9zJ",
        "outputId": "799ffaac-1002-4e1f-96df-c4f3b86b26c9"
      },
      "source": [
        "'5' + 'jamon'"
      ],
      "execution_count": null,
      "outputs": [
        {
          "output_type": "execute_result",
          "data": {
            "application/vnd.google.colaboratory.intrinsic+json": {
              "type": "string"
            },
            "text/plain": [
              "'5jamon'"
            ]
          },
          "metadata": {
            "tags": []
          },
          "execution_count": 6
        }
      ]
    },
    {
      "cell_type": "markdown",
      "metadata": {
        "id": "QAa11ix9d9zJ"
      },
      "source": [
        "Unió el '5' con la palabra jamón sin espacios."
      ]
    },
    {
      "cell_type": "code",
      "metadata": {
        "colab": {
          "base_uri": "https://localhost:8080/",
          "height": 162
        },
        "id": "vLF7wbWnd9zJ",
        "outputId": "b8b05249-b258-4add-9332-f5db440c7674"
      },
      "source": [
        "5*jamon"
      ],
      "execution_count": null,
      "outputs": [
        {
          "output_type": "error",
          "ename": "NameError",
          "evalue": "ignored",
          "traceback": [
            "\u001b[0;31m---------------------------------------------------------------------------\u001b[0m",
            "\u001b[0;31mNameError\u001b[0m                                 Traceback (most recent call last)",
            "\u001b[0;32m<ipython-input-7-9efab95b31ff>\u001b[0m in \u001b[0;36m<module>\u001b[0;34m()\u001b[0m\n\u001b[0;32m----> 1\u001b[0;31m \u001b[0;36m5\u001b[0m\u001b[0;34m*\u001b[0m\u001b[0mjamon\u001b[0m\u001b[0;34m\u001b[0m\u001b[0;34m\u001b[0m\u001b[0m\n\u001b[0m",
            "\u001b[0;31mNameError\u001b[0m: name 'jamon' is not defined"
          ]
        }
      ]
    },
    {
      "cell_type": "code",
      "metadata": {
        "id": "FoA2QfZwd9zK"
      },
      "source": [
        "5 + jamon"
      ],
      "execution_count": null,
      "outputs": []
    },
    {
      "cell_type": "markdown",
      "metadata": {
        "id": "t7rlPfMvd9zK"
      },
      "source": [
        "Entrega error en ambos casos porque jamon al no estar en comillas, Python lo reconoce como una \"variable\" y cómo no está definida entrega error"
      ]
    },
    {
      "cell_type": "code",
      "metadata": {
        "id": "vRJfU0gCd9zK"
      },
      "source": [
        ""
      ],
      "execution_count": null,
      "outputs": []
    },
    {
      "cell_type": "markdown",
      "metadata": {
        "id": "dXObg42rd9zK"
      },
      "source": [
        "## Actividades\n",
        "\n",
        "1.- \"Calculadora básica\": Realizar el paso a paso para calcular la suma, resta, multiplicación y división de dos números cualesquiera\n",
        "\n",
        "2.- Implementarlo en Python (en lo posible, realice una función que al invocarla muestre todas esas operaciones)\n",
        "\n",
        "## Solución"
      ]
    },
    {
      "cell_type": "code",
      "metadata": {
        "id": "bIehGEAB65PC"
      },
      "source": [
        "def suma(x,y)\r\n",
        "  sumar=x+y\r\n",
        "  return = "
      ],
      "execution_count": null,
      "outputs": []
    },
    {
      "cell_type": "code",
      "metadata": {
        "id": "QcA3zM4t65Vm"
      },
      "source": [
        ""
      ],
      "execution_count": null,
      "outputs": []
    },
    {
      "cell_type": "markdown",
      "metadata": {
        "id": "ha0WARpXd9zL"
      },
      "source": [
        "## Desafío para quienes tienen experiencia\n",
        "\n",
        "Para cada uno de estos ejercicios, **tome el tiempo inicial y el final**, ¿Cúanto tiempo demoró en hacer cada uno de ellos?\n",
        "\n",
        "1.- \"Dame tú Whatsapp\": Realizar el paso a paso para conocer el nombre, apellido y edad de una persona, para luego hacer un mensaje usando el nombre, apellido y edad de la persona y al final pedirle su Whatsapp\n",
        "\n",
        "2.- Implementarlo en Python (en lo posible, realice una función que al invocarla muestre un mensaje *atractivo*)\n",
        "\n",
        "## Solución"
      ]
    }
  ]
}